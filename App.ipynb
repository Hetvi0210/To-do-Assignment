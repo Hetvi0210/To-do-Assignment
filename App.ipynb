{
 "cells": [
  {
   "cell_type": "code",
   "execution_count": null,
   "id": "5af650c2",
   "metadata": {},
   "outputs": [],
   "source": [
    "from flask import Flask\n",
    "from flask_sqlalchemy import SQLAlchemy\n",
    "from flask_graphql import GraphQLView\n",
    "from graphene import ObjectType, String, Schema, Field, DateTime\n",
    "from graphene_sqlalchemy import SQLAlchemyObjectType, SQLAlchemyConnectionField\n",
    "\n",
    "app = Flask(__name__)\n",
    "app.config['SQLALCHEMY_DATABASE_URI'] = 'sqlite:////tmp/test.db'\n",
    "db = SQLAlchemy(app)\n",
    "\n",
    "class Todo(db.Model):\n",
    "    id = db.Column(db.Integer, primary_key=True)\n",
    "    title = db.Column(db.String(256))\n",
    "    description = db.Column(db.String(256))\n",
    "    time = db.Column(db.DateTime)\n",
    "\n",
    "class TodoObject(SQLAlchemyObjectType):\n",
    "    class Meta:\n",
    "        model = Todo\n",
    "        interfaces = (relay.Node, )\n",
    "\n",
    "class Query(ObjectType):\n",
    "    node = relay.Node.Field()\n",
    "    all_todos = SQLAlchemyConnectionField(TodoObject)\n",
    "\n",
    "schema = Schema(query=Query)\n",
    "\n",
    "app.add_url_rule(\n",
    "    '/graphql',\n",
    "    view_func=GraphQLView.as_view(\n",
    "        'graphql',\n",
    "        schema=schema,\n",
    "        graphiql=True\n",
    "    )\n",
    ")\n",
    "\n",
    "if __name__ == '__main__':\n",
    "    app.run()"
   ]
  }
 ],
 "metadata": {
  "kernelspec": {
   "display_name": "Python 3 (ipykernel)",
   "language": "python",
   "name": "python3"
  },
  "language_info": {
   "codemirror_mode": {
    "name": "ipython",
    "version": 3
   },
   "file_extension": ".py",
   "mimetype": "text/x-python",
   "name": "python",
   "nbconvert_exporter": "python",
   "pygments_lexer": "ipython3",
   "version": "3.9.13"
  }
 },
 "nbformat": 4,
 "nbformat_minor": 5
}
